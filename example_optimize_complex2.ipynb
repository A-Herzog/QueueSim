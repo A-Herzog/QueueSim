{
 "cells": [
  {
   "cell_type": "markdown",
   "metadata": {},
   "source": [
    "# More detailed optimization example (using BOBYQA)\n",
    "\n",
    "There are costs associated with waiting times. In addition, the operation of the system costs money depending on the time. Each successfully served client brings in a fixed profit. The number of orders accepted per day can be controlled.\n",
    "\n",
    "[BOBYQA documentation](https://numericalalgorithmsgroup.github.io/pybobyqa/build/html/index.html)"
   ]
  },
  {
   "cell_type": "markdown",
   "metadata": {},
   "source": [
    "## Importing modules"
   ]
  },
  {
   "cell_type": "code",
   "execution_count": 1,
   "metadata": {},
   "outputs": [],
   "source": [
    "# Processing results arrays\n",
    "import numpy as np\n",
    "\n",
    "# Optiomizer\n",
    "import pybobyqa\n",
    "\n",
    "# Simulator\n",
    "from queuesim.models import mmc_model, get_simulator_from_model"
   ]
  },
  {
   "cell_type": "markdown",
   "metadata": {},
   "source": [
    "## Model parameters"
   ]
  },
  {
   "cell_type": "code",
   "execution_count": 2,
   "metadata": {},
   "outputs": [],
   "source": [
    "# Arrivals to be simulated\n",
    "count = 100_000\n",
    "\n",
    "# Service process\n",
    "mean_S = 80\n",
    "c = 1\n",
    "\n",
    "# Costs\n",
    "profit_per_client = 100  # Revenue per customer served\n",
    "cost_waiting = 0.02  # Costs per waiting second\n",
    "operation_cost_per_second = 0.5"
   ]
  },
  {
   "cell_type": "markdown",
   "metadata": {},
   "source": [
    "## Definition of the function to be minimized"
   ]
  },
  {
   "cell_type": "code",
   "execution_count": 3,
   "metadata": {},
   "outputs": [],
   "source": [
    "def f(x):\n",
    "    # Generate model\n",
    "    global mean_S, c, count, profit_per_client, cost_waiting, operation_cost_per_second\n",
    "    rho = x[0]\n",
    "    mean_I = mean_S / rho / c\n",
    "    model = mmc_model(mean_I, mean_S, c, count)\n",
    "    \n",
    "    # Simulation\n",
    "    get_simulator_from_model(model).run()\n",
    "\n",
    "    # Calculate auxiliary result variables\n",
    "    waiting_time = model['Dispose'].statistic_client_waiting.mean\n",
    "    clients_per_day = model['Source'].count / model['Process'].statistic_wip.time * 86400\n",
    "    yield_per_client = profit_per_client - waiting_time * cost_waiting\n",
    "\n",
    "    # Revenue\n",
    "    return clients_per_day * yield_per_client - operation_cost_per_second * 86400"
   ]
  },
  {
   "cell_type": "code",
   "execution_count": 4,
   "metadata": {},
   "outputs": [],
   "source": [
    "def minimize_f(x):\n",
    "    return -f(x)"
   ]
  },
  {
   "cell_type": "markdown",
   "metadata": {},
   "source": [
    "## Running the optimization"
   ]
  },
  {
   "cell_type": "code",
   "execution_count": 5,
   "metadata": {},
   "outputs": [],
   "source": [
    "# Initial solution\n",
    "x0 = np.array([0.75])\n",
    "\n",
    "# Search range\n",
    "a = np.array([0.5])\n",
    "b = np.array([0.99])\n",
    "\n",
    "# Running BOBYQA\n",
    "soln = pybobyqa.solve(minimize_f, x0, bounds=(a, b))  # Actually corrent, but then the optimization runs endlessly (==\">5Min\"):  objfun_has_noise=True"
   ]
  },
  {
   "cell_type": "markdown",
   "metadata": {},
   "source": [
    "## Optimization successful?"
   ]
  },
  {
   "cell_type": "code",
   "execution_count": 6,
   "metadata": {},
   "outputs": [
    {
     "data": {
      "text/plain": [
       "True"
      ]
     },
     "execution_count": 6,
     "metadata": {},
     "output_type": "execute_result"
    }
   ],
   "source": [
    "soln.flag == soln.EXIT_SUCCESS"
   ]
  },
  {
   "cell_type": "code",
   "execution_count": 7,
   "metadata": {},
   "outputs": [
    {
     "name": "stdout",
     "output_type": "stream",
     "text": [
      "****** Py-BOBYQA Results ******\n",
      "Solution xmin = [0.87295696]\n",
      "Objective value f(xmin) = -41605.75139\n",
      "Needed 27 objective evaluations (at 27 points)\n",
      "Approximate gradient = [-7.13237679e+10]\n",
      "Approximate Hessian = [[7.71082964e+18]]\n",
      "Exit flag = 0\n",
      "Success: rho has reached rhoend\n",
      "******************************\n",
      "\n"
     ]
    }
   ],
   "source": [
    "print(soln)"
   ]
  },
  {
   "cell_type": "markdown",
   "metadata": {},
   "source": [
    "### Result (should be 88.8%)"
   ]
  },
  {
   "cell_type": "code",
   "execution_count": 8,
   "metadata": {},
   "outputs": [
    {
     "name": "stdout",
     "output_type": "stream",
     "text": [
      "87.3 %\n"
     ]
    }
   ],
   "source": [
    "print(round(soln.x[0]*100,1),\"%\")"
   ]
  },
  {
   "cell_type": "markdown",
   "metadata": {},
   "source": [
    "## Verification per iteration via $[y-\\epsilon, y+\\epsilon]$"
   ]
  },
  {
   "cell_type": "code",
   "execution_count": 9,
   "metadata": {},
   "outputs": [],
   "source": [
    "x=np.linspace(soln.x-0.02,soln.x+0.02,20)\n",
    "y=[f([float(rho)]) for rho in x]  # Takes a little longer, quite simpile formulation without parallelization (approx. 1 min on fast machine)"
   ]
  },
  {
   "cell_type": "code",
   "execution_count": 12,
   "metadata": {},
   "outputs": [
    {
     "name": "stdout",
     "output_type": "stream",
     "text": [
      "86.3 %\n"
     ]
    }
   ],
   "source": [
    "print(round(x[np.argmax(y)][0]*100,1),\"%\")"
   ]
  },
  {
   "cell_type": "markdown",
   "metadata": {},
   "source": [
    "Attention: $f(x)$ is not deterministic. If the iterative search returns a slightly different value, this does not mean that the optimization result is not the optimum."
   ]
  }
 ],
 "metadata": {
  "kernelspec": {
   "display_name": "Python 3.9.7 64-bit",
   "language": "python",
   "name": "python3"
  },
  "language_info": {
   "codemirror_mode": {
    "name": "ipython",
    "version": 3
   },
   "file_extension": ".py",
   "mimetype": "text/x-python",
   "name": "python",
   "nbconvert_exporter": "python",
   "pygments_lexer": "ipython3",
   "version": "3.9.7"
  },
  "orig_nbformat": 4,
  "vscode": {
   "interpreter": {
    "hash": "37056784771c7b5ac6ab9d7dda111ef842cb90abd361c4ad13f8b6bfd3e8f1f2"
   }
  }
 },
 "nbformat": 4,
 "nbformat_minor": 2
}
