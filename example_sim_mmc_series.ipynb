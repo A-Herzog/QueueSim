{
 "cells": [
  {
   "attachments": {},
   "cell_type": "markdown",
   "metadata": {},
   "source": [
    "# Parameter series for M/M/c model"
   ]
  },
  {
   "attachments": {},
   "cell_type": "markdown",
   "metadata": {},
   "source": [
    "This notebook shows the effect of different average service times in a M/M/c model on the waiting times."
   ]
  },
  {
   "attachments": {},
   "cell_type": "markdown",
   "metadata": {},
   "source": [
    "## Importing modules"
   ]
  },
  {
   "cell_type": "code",
   "execution_count": 1,
   "metadata": {},
   "outputs": [],
   "source": [
    "# Data collection\n",
    "import pandas as pd\n",
    "\n",
    "# Plotting modules\n",
    "import matplotlib.pyplot as plt\n",
    "import matplotlib.ticker as formater\n",
    "import seaborn as sns\n",
    "\n",
    "# Simulation\n",
    "from queuesim import SimProcess, run_parallel, get_multi_run_info\n",
    "from queuesim.models import mmc_model\n",
    "\n",
    "# Analytic calcution\n",
    "from queuesim.analytic import erlang_c_table\n",
    "\n",
    "# Defining general plot style\n",
    "sns.set()"
   ]
  },
  {
   "attachments": {},
   "cell_type": "markdown",
   "metadata": {},
   "source": [
    "## Model parameters"
   ]
  },
  {
   "cell_type": "code",
   "execution_count": 2,
   "metadata": {},
   "outputs": [],
   "source": [
    "# Mean inter-arrival time\n",
    "mean_i = 100\n",
    "\n",
    "# Mean service time range\n",
    "mean_s_range = range(70, 93)\n",
    "\n",
    "# Number of operators\n",
    "c = 1\n",
    "\n",
    "# Number of arrivals to be simulated\n",
    "count = 100_000"
   ]
  },
  {
   "attachments": {},
   "cell_type": "markdown",
   "metadata": {},
   "source": [
    "## Parallel simulation of the M/M/c models with E[I]=100, c=1 and E[S]=70,71,...,92 each with 100,000 arrivals"
   ]
  },
  {
   "cell_type": "code",
   "execution_count": 3,
   "metadata": {},
   "outputs": [
    {
     "name": "stdout",
     "output_type": "stream",
     "text": [
      "23 parallel processes started.\n",
      "All processes terminated, runtime: 80.7 seconds.\n",
      "Results have been collected.\n"
     ]
    }
   ],
   "source": [
    "models, simulators = run_parallel([SimProcess(mmc_model(mean_i, mean_s, c, count)) for mean_s in mean_s_range])"
   ]
  },
  {
   "attachments": {},
   "cell_type": "markdown",
   "metadata": {},
   "source": [
    "## Processing results"
   ]
  },
  {
   "cell_type": "code",
   "execution_count": 4,
   "metadata": {},
   "outputs": [
    {
     "data": {
      "text/html": [
       "<div>\n",
       "<style scoped>\n",
       "    .dataframe tbody tr th:only-of-type {\n",
       "        vertical-align: middle;\n",
       "    }\n",
       "\n",
       "    .dataframe tbody tr th {\n",
       "        vertical-align: top;\n",
       "    }\n",
       "\n",
       "    .dataframe thead th {\n",
       "        text-align: right;\n",
       "    }\n",
       "</style>\n",
       "<table border=\"1\" class=\"dataframe\">\n",
       "  <thead>\n",
       "    <tr style=\"text-align: right;\">\n",
       "      <th></th>\n",
       "      <th>mu</th>\n",
       "      <th>rho</th>\n",
       "      <th>E[N_Q]</th>\n",
       "      <th>E[N]</th>\n",
       "      <th>E[W]</th>\n",
       "      <th>E[V]</th>\n",
       "    </tr>\n",
       "  </thead>\n",
       "  <tbody>\n",
       "    <tr>\n",
       "      <th>0</th>\n",
       "      <td>0.014286</td>\n",
       "      <td>0.70</td>\n",
       "      <td>1.657026</td>\n",
       "      <td>2.357947</td>\n",
       "      <td>165.449937</td>\n",
       "      <td>235.435164</td>\n",
       "    </tr>\n",
       "    <tr>\n",
       "      <th>1</th>\n",
       "      <td>0.014085</td>\n",
       "      <td>0.71</td>\n",
       "      <td>1.724834</td>\n",
       "      <td>2.434036</td>\n",
       "      <td>172.436446</td>\n",
       "      <td>243.337393</td>\n",
       "    </tr>\n",
       "    <tr>\n",
       "      <th>2</th>\n",
       "      <td>0.013889</td>\n",
       "      <td>0.72</td>\n",
       "      <td>1.939730</td>\n",
       "      <td>2.661501</td>\n",
       "      <td>193.532726</td>\n",
       "      <td>265.545994</td>\n",
       "    </tr>\n",
       "    <tr>\n",
       "      <th>3</th>\n",
       "      <td>0.013699</td>\n",
       "      <td>0.73</td>\n",
       "      <td>1.958694</td>\n",
       "      <td>2.691125</td>\n",
       "      <td>196.200788</td>\n",
       "      <td>269.567813</td>\n",
       "    </tr>\n",
       "    <tr>\n",
       "      <th>4</th>\n",
       "      <td>0.013514</td>\n",
       "      <td>0.74</td>\n",
       "      <td>2.095143</td>\n",
       "      <td>2.833997</td>\n",
       "      <td>209.386931</td>\n",
       "      <td>283.227394</td>\n",
       "    </tr>\n",
       "    <tr>\n",
       "      <th>5</th>\n",
       "      <td>0.013333</td>\n",
       "      <td>0.75</td>\n",
       "      <td>2.258423</td>\n",
       "      <td>3.016070</td>\n",
       "      <td>224.956402</td>\n",
       "      <td>300.423811</td>\n",
       "    </tr>\n",
       "    <tr>\n",
       "      <th>6</th>\n",
       "      <td>0.013158</td>\n",
       "      <td>0.76</td>\n",
       "      <td>2.313479</td>\n",
       "      <td>3.073300</td>\n",
       "      <td>231.459117</td>\n",
       "      <td>307.477710</td>\n",
       "    </tr>\n",
       "    <tr>\n",
       "      <th>7</th>\n",
       "      <td>0.012987</td>\n",
       "      <td>0.77</td>\n",
       "      <td>2.749129</td>\n",
       "      <td>3.523469</td>\n",
       "      <td>274.656456</td>\n",
       "      <td>352.018220</td>\n",
       "    </tr>\n",
       "    <tr>\n",
       "      <th>8</th>\n",
       "      <td>0.012821</td>\n",
       "      <td>0.78</td>\n",
       "      <td>2.733652</td>\n",
       "      <td>3.510460</td>\n",
       "      <td>273.664846</td>\n",
       "      <td>351.430702</td>\n",
       "    </tr>\n",
       "    <tr>\n",
       "      <th>9</th>\n",
       "      <td>0.012658</td>\n",
       "      <td>0.79</td>\n",
       "      <td>2.914674</td>\n",
       "      <td>3.707371</td>\n",
       "      <td>291.008303</td>\n",
       "      <td>370.153180</td>\n",
       "    </tr>\n",
       "    <tr>\n",
       "      <th>10</th>\n",
       "      <td>0.012500</td>\n",
       "      <td>0.80</td>\n",
       "      <td>3.157419</td>\n",
       "      <td>3.952103</td>\n",
       "      <td>317.381804</td>\n",
       "      <td>397.262900</td>\n",
       "    </tr>\n",
       "    <tr>\n",
       "      <th>11</th>\n",
       "      <td>0.012346</td>\n",
       "      <td>0.81</td>\n",
       "      <td>3.555803</td>\n",
       "      <td>4.364017</td>\n",
       "      <td>356.373927</td>\n",
       "      <td>437.375676</td>\n",
       "    </tr>\n",
       "    <tr>\n",
       "      <th>12</th>\n",
       "      <td>0.012195</td>\n",
       "      <td>0.82</td>\n",
       "      <td>3.527556</td>\n",
       "      <td>4.345052</td>\n",
       "      <td>354.963201</td>\n",
       "      <td>437.224373</td>\n",
       "    </tr>\n",
       "    <tr>\n",
       "      <th>13</th>\n",
       "      <td>0.012048</td>\n",
       "      <td>0.83</td>\n",
       "      <td>4.145311</td>\n",
       "      <td>4.977733</td>\n",
       "      <td>412.311251</td>\n",
       "      <td>495.107720</td>\n",
       "    </tr>\n",
       "    <tr>\n",
       "      <th>14</th>\n",
       "      <td>0.011905</td>\n",
       "      <td>0.84</td>\n",
       "      <td>4.727688</td>\n",
       "      <td>5.578998</td>\n",
       "      <td>469.507412</td>\n",
       "      <td>554.051124</td>\n",
       "    </tr>\n",
       "    <tr>\n",
       "      <th>15</th>\n",
       "      <td>0.011765</td>\n",
       "      <td>0.85</td>\n",
       "      <td>5.303704</td>\n",
       "      <td>6.162931</td>\n",
       "      <td>526.148736</td>\n",
       "      <td>611.387455</td>\n",
       "    </tr>\n",
       "    <tr>\n",
       "      <th>16</th>\n",
       "      <td>0.011628</td>\n",
       "      <td>0.86</td>\n",
       "      <td>4.766313</td>\n",
       "      <td>5.620301</td>\n",
       "      <td>478.168231</td>\n",
       "      <td>563.842405</td>\n",
       "    </tr>\n",
       "    <tr>\n",
       "      <th>17</th>\n",
       "      <td>0.011494</td>\n",
       "      <td>0.87</td>\n",
       "      <td>5.499693</td>\n",
       "      <td>6.360447</td>\n",
       "      <td>553.321607</td>\n",
       "      <td>639.921692</td>\n",
       "    </tr>\n",
       "    <tr>\n",
       "      <th>18</th>\n",
       "      <td>0.011364</td>\n",
       "      <td>0.88</td>\n",
       "      <td>6.054770</td>\n",
       "      <td>6.931870</td>\n",
       "      <td>603.933023</td>\n",
       "      <td>691.419291</td>\n",
       "    </tr>\n",
       "    <tr>\n",
       "      <th>19</th>\n",
       "      <td>0.011236</td>\n",
       "      <td>0.89</td>\n",
       "      <td>7.740323</td>\n",
       "      <td>8.633357</td>\n",
       "      <td>771.228986</td>\n",
       "      <td>860.208905</td>\n",
       "    </tr>\n",
       "    <tr>\n",
       "      <th>20</th>\n",
       "      <td>0.011111</td>\n",
       "      <td>0.90</td>\n",
       "      <td>8.874193</td>\n",
       "      <td>9.783202</td>\n",
       "      <td>884.962030</td>\n",
       "      <td>975.611155</td>\n",
       "    </tr>\n",
       "    <tr>\n",
       "      <th>21</th>\n",
       "      <td>0.010989</td>\n",
       "      <td>0.91</td>\n",
       "      <td>8.360700</td>\n",
       "      <td>9.263821</td>\n",
       "      <td>838.419139</td>\n",
       "      <td>928.985064</td>\n",
       "    </tr>\n",
       "    <tr>\n",
       "      <th>22</th>\n",
       "      <td>0.010870</td>\n",
       "      <td>0.92</td>\n",
       "      <td>10.227207</td>\n",
       "      <td>11.149458</td>\n",
       "      <td>1019.204817</td>\n",
       "      <td>1111.112944</td>\n",
       "    </tr>\n",
       "  </tbody>\n",
       "</table>\n",
       "</div>"
      ],
      "text/plain": [
       "          mu   rho     E[N_Q]       E[N]         E[W]         E[V]\n",
       "0   0.014286  0.70   1.657026   2.357947   165.449937   235.435164\n",
       "1   0.014085  0.71   1.724834   2.434036   172.436446   243.337393\n",
       "2   0.013889  0.72   1.939730   2.661501   193.532726   265.545994\n",
       "3   0.013699  0.73   1.958694   2.691125   196.200788   269.567813\n",
       "4   0.013514  0.74   2.095143   2.833997   209.386931   283.227394\n",
       "5   0.013333  0.75   2.258423   3.016070   224.956402   300.423811\n",
       "6   0.013158  0.76   2.313479   3.073300   231.459117   307.477710\n",
       "7   0.012987  0.77   2.749129   3.523469   274.656456   352.018220\n",
       "8   0.012821  0.78   2.733652   3.510460   273.664846   351.430702\n",
       "9   0.012658  0.79   2.914674   3.707371   291.008303   370.153180\n",
       "10  0.012500  0.80   3.157419   3.952103   317.381804   397.262900\n",
       "11  0.012346  0.81   3.555803   4.364017   356.373927   437.375676\n",
       "12  0.012195  0.82   3.527556   4.345052   354.963201   437.224373\n",
       "13  0.012048  0.83   4.145311   4.977733   412.311251   495.107720\n",
       "14  0.011905  0.84   4.727688   5.578998   469.507412   554.051124\n",
       "15  0.011765  0.85   5.303704   6.162931   526.148736   611.387455\n",
       "16  0.011628  0.86   4.766313   5.620301   478.168231   563.842405\n",
       "17  0.011494  0.87   5.499693   6.360447   553.321607   639.921692\n",
       "18  0.011364  0.88   6.054770   6.931870   603.933023   691.419291\n",
       "19  0.011236  0.89   7.740323   8.633357   771.228986   860.208905\n",
       "20  0.011111  0.90   8.874193   9.783202   884.962030   975.611155\n",
       "21  0.010989  0.91   8.360700   9.263821   838.419139   928.985064\n",
       "22  0.010870  0.92  10.227207  11.149458  1019.204817  1111.112944"
      ]
     },
     "execution_count": 4,
     "metadata": {},
     "output_type": "execute_result"
    }
   ],
   "source": [
    "mu = [1 / model['meanS'] for model in models]\n",
    "rho = [model['meanS'] / model['meanI'] / model['c'] for model in models]\n",
    "ENQ = [model['Process'].statistic_queue_length.mean for model in models]\n",
    "EN = [model['Process'].statistic_wip.mean for model in models]\n",
    "EW = [model['Dispose'].statistic_client_waiting.mean for model in models]\n",
    "EV = [model['Dispose'].statistic_client_residence.mean for model in models]\n",
    "\n",
    "results = pd.DataFrame({'mu': mu, 'rho': rho, 'E[N_Q]': ENQ, 'E[N]': EN, 'E[W]': EW, 'E[V]': EV})\n",
    "\n",
    "results"
   ]
  },
  {
   "attachments": {},
   "cell_type": "markdown",
   "metadata": {},
   "source": [
    "## Calculating Erlang C formula results"
   ]
  },
  {
   "cell_type": "code",
   "execution_count": 5,
   "metadata": {},
   "outputs": [],
   "source": [
    "parameter = [(1 / mean_i, mu, c) for mu in results[\"mu\"]]\n",
    "erlang_c_results = erlang_c_table(parameter)"
   ]
  },
  {
   "attachments": {},
   "cell_type": "markdown",
   "metadata": {},
   "source": [
    "## Plotting results"
   ]
  },
  {
   "cell_type": "code",
   "execution_count": 6,
   "metadata": {},
   "outputs": [],
   "source": [
    "# Optional: Interactive diagram mode\n",
    "# Run \"pip install ipympl\" first\n",
    "# %matplotlib ipympl"
   ]
  },
  {
   "cell_type": "code",
   "execution_count": 7,
   "metadata": {},
   "outputs": [
    {
     "data": {
      "text/plain": [
       "Text(0.5, 1.0, 'Mean waiting time as a function of the utilization')"
      ]
     },
     "execution_count": 7,
     "metadata": {},
     "output_type": "execute_result"
    },
    {
     "data": {
      "image/png": "[encoded data removed]",
      "text/plain": [
       "<Figure size 1152x648 with 1 Axes>"
      ]
     },
     "metadata": {},
     "output_type": "display_data"
    }
   ],
   "source": [
    "fig, ax = plt.subplots(figsize=(16, 9))\n",
    "ax.plot(results['rho'], results['E[W]'], 'b', label=\"Simulation results\")\n",
    "ax.plot(erlang_c_results['rho'], erlang_c_results['E[W]'], 'r', label=\"Erlang C formula results\")\n",
    "\n",
    "ax.xaxis.set_major_formatter(formater.PercentFormatter(xmax=1, decimals=0))\n",
    "ax.set_xlabel(\"Utilization $\\\\rho$\")\n",
    "ax.set_ylabel(\"Mean waiting time E[W]\")\n",
    "ax.legend()\n",
    "\n",
    "ax.set_title(\"Mean waiting time as a function of the utilization\")"
   ]
  },
  {
   "attachments": {},
   "cell_type": "markdown",
   "metadata": {},
   "source": [
    "## Simulation runtimes"
   ]
  },
  {
   "cell_type": "code",
   "execution_count": 8,
   "metadata": {},
   "outputs": [
    {
     "name": "stdout",
     "output_type": "stream",
     "text": [
      "Models: 23\n",
      "Client arrivals (total): 2.3 millons\n",
      "Computing time (total): 14.0 Sekunden\n",
      "Computing time per client (real): 129.2 µs\n"
     ]
    }
   ],
   "source": [
    "print(get_multi_run_info([model['Source'] for model in models], simulators))"
   ]
  },
  {
   "attachments": {},
   "cell_type": "markdown",
   "metadata": {},
   "source": [
    "### Runtime\n",
    "\n",
    "* total = Maximum of the computing times of the individual processes\n",
    "* real = Computing time per client on a single CPU core (dividing this value by the number of CPU cores is total output)"
   ]
  }
 ],
 "metadata": {
  "interpreter": {
   "hash": "50353b016531f30848d54ac32cae776bc182aa8d1967b29e76fe0c76333975c2"
  },
  "kernelspec": {
   "display_name": "Python 3.9.7 64-bit",
   "name": "python3"
  },
  "language_info": {
   "codemirror_mode": {
    "name": "ipython",
    "version": 3
   },
   "file_extension": ".py",
   "mimetype": "text/x-python",
   "name": "python",
   "nbconvert_exporter": "python",
   "pygments_lexer": "ipython3",
   "version": "3.9.7"
  },
  "orig_nbformat": 4
 },
 "nbformat": 4,
 "nbformat_minor": 2
}
