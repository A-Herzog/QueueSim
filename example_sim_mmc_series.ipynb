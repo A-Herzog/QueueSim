{
 "cells": [
  {
   "cell_type": "markdown",
   "metadata": {},
   "source": [
    "# Parameter series for M/M/c model"
   ]
  },
  {
   "cell_type": "markdown",
   "metadata": {},
   "source": [
    "This notebook shows the effect of different average service times in a M/M/c model on the waiting times."
   ]
  },
  {
   "cell_type": "markdown",
   "metadata": {},
   "source": [
    "## Importing modules"
   ]
  },
  {
   "cell_type": "code",
   "execution_count": 1,
   "metadata": {},
   "outputs": [],
   "source": [
    "# Data collection\n",
    "import pandas as pd\n",
    "\n",
    "# Plotting modules\n",
    "import matplotlib.pyplot as plt\n",
    "import matplotlib.ticker as formater\n",
    "import seaborn as sns\n",
    "\n",
    "# Simulation\n",
    "from queuesim import SimProcess, run_parallel, get_multi_run_info\n",
    "from queuesim.models import mmc_model\n",
    "\n",
    "# Analytic calcution\n",
    "from queuesim.analytic import erlang_c_table\n",
    "\n",
    "# Defining general plot style\n",
    "sns.set()"
   ]
  },
  {
   "cell_type": "markdown",
   "metadata": {},
   "source": [
    "## Model parameters"
   ]
  },
  {
   "cell_type": "code",
   "execution_count": 2,
   "metadata": {},
   "outputs": [],
   "source": [
    "# Mean inter-arrival time\n",
    "mean_i = 100\n",
    "\n",
    "# Mean service time range\n",
    "mean_s_range = range(70, 93)\n",
    "\n",
    "# Number of operators\n",
    "c = 1\n",
    "\n",
    "# Number of arrivals to be simulated\n",
    "count = 100_000"
   ]
  },
  {
   "cell_type": "markdown",
   "metadata": {},
   "source": [
    "## Parallel simulation of the M/M/c models with E[I]=100, c=1 and E[S]=70,71,...,92 each with 100,000 arrivals"
   ]
  },
  {
   "cell_type": "code",
   "execution_count": 3,
   "metadata": {},
   "outputs": [
    {
     "name": "stdout",
     "output_type": "stream",
     "text": [
      "23 parallel processes started.\n",
      "All processes terminated, runtime: 71.5 seconds.\n",
      "Results have been collected.\n"
     ]
    }
   ],
   "source": [
    "models, simulators = run_parallel([SimProcess(mmc_model(mean_i, mean_s, c, count)) for mean_s in mean_s_range])"
   ]
  },
  {
   "cell_type": "markdown",
   "metadata": {},
   "source": [
    "## Processing results"
   ]
  },
  {
   "cell_type": "code",
   "execution_count": 4,
   "metadata": {},
   "outputs": [
    {
     "data": {
      "text/html": [
       "<div>\n",
       "<style scoped>\n",
       "    .dataframe tbody tr th:only-of-type {\n",
       "        vertical-align: middle;\n",
       "    }\n",
       "\n",
       "    .dataframe tbody tr th {\n",
       "        vertical-align: top;\n",
       "    }\n",
       "\n",
       "    .dataframe thead th {\n",
       "        text-align: right;\n",
       "    }\n",
       "</style>\n",
       "<table border=\"1\" class=\"dataframe\">\n",
       "  <thead>\n",
       "    <tr style=\"text-align: right;\">\n",
       "      <th></th>\n",
       "      <th>mu</th>\n",
       "      <th>rho</th>\n",
       "      <th>E[N_Q]</th>\n",
       "      <th>E[N]</th>\n",
       "      <th>E[W]</th>\n",
       "      <th>E[V]</th>\n",
       "    </tr>\n",
       "  </thead>\n",
       "  <tbody>\n",
       "    <tr>\n",
       "      <th>0</th>\n",
       "      <td>0.014286</td>\n",
       "      <td>0.70</td>\n",
       "      <td>1.542077</td>\n",
       "      <td>2.241694</td>\n",
       "      <td>154.216581</td>\n",
       "      <td>224.182208</td>\n",
       "    </tr>\n",
       "    <tr>\n",
       "      <th>1</th>\n",
       "      <td>0.014085</td>\n",
       "      <td>0.71</td>\n",
       "      <td>1.721675</td>\n",
       "      <td>2.428662</td>\n",
       "      <td>172.228333</td>\n",
       "      <td>242.952005</td>\n",
       "    </tr>\n",
       "    <tr>\n",
       "      <th>2</th>\n",
       "      <td>0.013889</td>\n",
       "      <td>0.72</td>\n",
       "      <td>1.770783</td>\n",
       "      <td>2.486941</td>\n",
       "      <td>177.336337</td>\n",
       "      <td>249.056508</td>\n",
       "    </tr>\n",
       "    <tr>\n",
       "      <th>3</th>\n",
       "      <td>0.013699</td>\n",
       "      <td>0.73</td>\n",
       "      <td>2.081521</td>\n",
       "      <td>2.821366</td>\n",
       "      <td>206.114798</td>\n",
       "      <td>279.375161</td>\n",
       "    </tr>\n",
       "    <tr>\n",
       "      <th>4</th>\n",
       "      <td>0.013514</td>\n",
       "      <td>0.74</td>\n",
       "      <td>2.111009</td>\n",
       "      <td>2.851157</td>\n",
       "      <td>211.638483</td>\n",
       "      <td>285.841775</td>\n",
       "    </tr>\n",
       "    <tr>\n",
       "      <th>5</th>\n",
       "      <td>0.013333</td>\n",
       "      <td>0.75</td>\n",
       "      <td>2.227664</td>\n",
       "      <td>2.980575</td>\n",
       "      <td>221.932720</td>\n",
       "      <td>296.941976</td>\n",
       "    </tr>\n",
       "    <tr>\n",
       "      <th>6</th>\n",
       "      <td>0.013158</td>\n",
       "      <td>0.76</td>\n",
       "      <td>2.477577</td>\n",
       "      <td>3.241803</td>\n",
       "      <td>246.475466</td>\n",
       "      <td>322.502542</td>\n",
       "    </tr>\n",
       "    <tr>\n",
       "      <th>7</th>\n",
       "      <td>0.012987</td>\n",
       "      <td>0.77</td>\n",
       "      <td>2.667945</td>\n",
       "      <td>3.438216</td>\n",
       "      <td>267.787093</td>\n",
       "      <td>345.100738</td>\n",
       "    </tr>\n",
       "    <tr>\n",
       "      <th>8</th>\n",
       "      <td>0.012821</td>\n",
       "      <td>0.78</td>\n",
       "      <td>2.749680</td>\n",
       "      <td>3.530566</td>\n",
       "      <td>274.426511</td>\n",
       "      <td>352.361248</td>\n",
       "    </tr>\n",
       "    <tr>\n",
       "      <th>9</th>\n",
       "      <td>0.012658</td>\n",
       "      <td>0.79</td>\n",
       "      <td>3.223595</td>\n",
       "      <td>4.023292</td>\n",
       "      <td>320.174781</td>\n",
       "      <td>399.602527</td>\n",
       "    </tr>\n",
       "    <tr>\n",
       "      <th>10</th>\n",
       "      <td>0.012500</td>\n",
       "      <td>0.80</td>\n",
       "      <td>3.135784</td>\n",
       "      <td>3.938890</td>\n",
       "      <td>312.487707</td>\n",
       "      <td>392.518917</td>\n",
       "    </tr>\n",
       "    <tr>\n",
       "      <th>11</th>\n",
       "      <td>0.012346</td>\n",
       "      <td>0.81</td>\n",
       "      <td>3.578425</td>\n",
       "      <td>4.390866</td>\n",
       "      <td>356.576288</td>\n",
       "      <td>437.532965</td>\n",
       "    </tr>\n",
       "    <tr>\n",
       "      <th>12</th>\n",
       "      <td>0.012195</td>\n",
       "      <td>0.82</td>\n",
       "      <td>3.616760</td>\n",
       "      <td>4.434576</td>\n",
       "      <td>361.377635</td>\n",
       "      <td>443.091758</td>\n",
       "    </tr>\n",
       "    <tr>\n",
       "      <th>13</th>\n",
       "      <td>0.012048</td>\n",
       "      <td>0.83</td>\n",
       "      <td>3.988863</td>\n",
       "      <td>4.813737</td>\n",
       "      <td>400.319759</td>\n",
       "      <td>483.103613</td>\n",
       "    </tr>\n",
       "    <tr>\n",
       "      <th>14</th>\n",
       "      <td>0.011905</td>\n",
       "      <td>0.84</td>\n",
       "      <td>4.291231</td>\n",
       "      <td>5.134226</td>\n",
       "      <td>428.872647</td>\n",
       "      <td>513.123010</td>\n",
       "    </tr>\n",
       "    <tr>\n",
       "      <th>15</th>\n",
       "      <td>0.011765</td>\n",
       "      <td>0.85</td>\n",
       "      <td>4.864427</td>\n",
       "      <td>5.716539</td>\n",
       "      <td>486.536215</td>\n",
       "      <td>571.763796</td>\n",
       "    </tr>\n",
       "    <tr>\n",
       "      <th>16</th>\n",
       "      <td>0.011628</td>\n",
       "      <td>0.86</td>\n",
       "      <td>4.956067</td>\n",
       "      <td>5.815392</td>\n",
       "      <td>496.885156</td>\n",
       "      <td>583.039288</td>\n",
       "    </tr>\n",
       "    <tr>\n",
       "      <th>17</th>\n",
       "      <td>0.011494</td>\n",
       "      <td>0.87</td>\n",
       "      <td>5.314032</td>\n",
       "      <td>6.176110</td>\n",
       "      <td>532.277760</td>\n",
       "      <td>618.627485</td>\n",
       "    </tr>\n",
       "    <tr>\n",
       "      <th>18</th>\n",
       "      <td>0.011364</td>\n",
       "      <td>0.88</td>\n",
       "      <td>7.022756</td>\n",
       "      <td>7.906266</td>\n",
       "      <td>700.884675</td>\n",
       "      <td>789.060669</td>\n",
       "    </tr>\n",
       "    <tr>\n",
       "      <th>19</th>\n",
       "      <td>0.011236</td>\n",
       "      <td>0.89</td>\n",
       "      <td>7.502818</td>\n",
       "      <td>8.399159</td>\n",
       "      <td>747.520560</td>\n",
       "      <td>836.824709</td>\n",
       "    </tr>\n",
       "    <tr>\n",
       "      <th>20</th>\n",
       "      <td>0.011111</td>\n",
       "      <td>0.90</td>\n",
       "      <td>8.615162</td>\n",
       "      <td>9.517849</td>\n",
       "      <td>864.171414</td>\n",
       "      <td>954.718380</td>\n",
       "    </tr>\n",
       "    <tr>\n",
       "      <th>21</th>\n",
       "      <td>0.010989</td>\n",
       "      <td>0.91</td>\n",
       "      <td>8.523476</td>\n",
       "      <td>9.426443</td>\n",
       "      <td>856.084119</td>\n",
       "      <td>946.776748</td>\n",
       "    </tr>\n",
       "    <tr>\n",
       "      <th>22</th>\n",
       "      <td>0.010870</td>\n",
       "      <td>0.92</td>\n",
       "      <td>10.254357</td>\n",
       "      <td>11.175202</td>\n",
       "      <td>1025.056439</td>\n",
       "      <td>1117.106936</td>\n",
       "    </tr>\n",
       "  </tbody>\n",
       "</table>\n",
       "</div>"
      ],
      "text/plain": [
       "          mu   rho     E[N_Q]       E[N]         E[W]         E[V]\n",
       "0   0.014286  0.70   1.542077   2.241694   154.216581   224.182208\n",
       "1   0.014085  0.71   1.721675   2.428662   172.228333   242.952005\n",
       "2   0.013889  0.72   1.770783   2.486941   177.336337   249.056508\n",
       "3   0.013699  0.73   2.081521   2.821366   206.114798   279.375161\n",
       "4   0.013514  0.74   2.111009   2.851157   211.638483   285.841775\n",
       "5   0.013333  0.75   2.227664   2.980575   221.932720   296.941976\n",
       "6   0.013158  0.76   2.477577   3.241803   246.475466   322.502542\n",
       "7   0.012987  0.77   2.667945   3.438216   267.787093   345.100738\n",
       "8   0.012821  0.78   2.749680   3.530566   274.426511   352.361248\n",
       "9   0.012658  0.79   3.223595   4.023292   320.174781   399.602527\n",
       "10  0.012500  0.80   3.135784   3.938890   312.487707   392.518917\n",
       "11  0.012346  0.81   3.578425   4.390866   356.576288   437.532965\n",
       "12  0.012195  0.82   3.616760   4.434576   361.377635   443.091758\n",
       "13  0.012048  0.83   3.988863   4.813737   400.319759   483.103613\n",
       "14  0.011905  0.84   4.291231   5.134226   428.872647   513.123010\n",
       "15  0.011765  0.85   4.864427   5.716539   486.536215   571.763796\n",
       "16  0.011628  0.86   4.956067   5.815392   496.885156   583.039288\n",
       "17  0.011494  0.87   5.314032   6.176110   532.277760   618.627485\n",
       "18  0.011364  0.88   7.022756   7.906266   700.884675   789.060669\n",
       "19  0.011236  0.89   7.502818   8.399159   747.520560   836.824709\n",
       "20  0.011111  0.90   8.615162   9.517849   864.171414   954.718380\n",
       "21  0.010989  0.91   8.523476   9.426443   856.084119   946.776748\n",
       "22  0.010870  0.92  10.254357  11.175202  1025.056439  1117.106936"
      ]
     },
     "execution_count": 4,
     "metadata": {},
     "output_type": "execute_result"
    }
   ],
   "source": [
    "mu = [1 / model['meanS'] for model in models]\n",
    "rho = [model['meanS'] / model['meanI'] / model['c'] for model in models]\n",
    "ENQ = [model['Process'].statistic_queue_length.mean for model in models]\n",
    "EN = [model['Process'].statistic_wip.mean for model in models]\n",
    "EW = [model['Dispose'].statistic_client_waiting.mean for model in models]\n",
    "EV = [model['Dispose'].statistic_client_residence.mean for model in models]\n",
    "\n",
    "results = pd.DataFrame({'mu': mu, 'rho': rho, 'E[N_Q]': ENQ, 'E[N]': EN, 'E[W]': EW, 'E[V]': EV})\n",
    "\n",
    "results"
   ]
  },
  {
   "cell_type": "markdown",
   "metadata": {},
   "source": [
    "## Calculating Erlang C formula results"
   ]
  },
  {
   "cell_type": "code",
   "execution_count": 5,
   "metadata": {},
   "outputs": [],
   "source": [
    "parameter = [(1 / mean_i, mu, c) for mu in results[\"mu\"]]\n",
    "erlang_c_results = erlang_c_table(parameter)"
   ]
  },
  {
   "cell_type": "markdown",
   "metadata": {},
   "source": [
    "## Plotting results"
   ]
  },
  {
   "cell_type": "code",
   "execution_count": 6,
   "metadata": {},
   "outputs": [],
   "source": [
    "# Optional: Interactive diagram mode\n",
    "# Run \"pip install ipympl\" first\n",
    "# %matplotlib ipympl"
   ]
  },
  {
   "cell_type": "code",
   "execution_count": 7,
   "metadata": {},
   "outputs": [
    {
     "data": {
      "text/plain": [
       "Text(0.5, 1.0, 'Mean waiting time as a function of the utilization')"
      ]
     },
     "execution_count": 7,
     "metadata": {},
     "output_type": "execute_result"
    },
    {
     "data": {
      "image/png": "[encoded data removed]",
      "text/plain": [
       "<Figure size 1152x648 with 1 Axes>"
      ]
     },
     "metadata": {},
     "output_type": "display_data"
    }
   ],
   "source": [
    "fig, ax = plt.subplots(figsize=(16, 9))\n",
    "ax.plot(results['rho'], results['E[W]'], 'b', label=\"Simulation results\")\n",
    "ax.plot(erlang_c_results['rho'], erlang_c_results['E[W]'], 'r', label=\"Erlang C formula results\")\n",
    "\n",
    "ax.xaxis.set_major_formatter(formater.PercentFormatter(xmax=1, decimals=0))\n",
    "ax.set_xlabel(\"Utilization $\\\\rho$\")\n",
    "ax.set_ylabel(\"Mean waiting time E[W]\")\n",
    "ax.legend()\n",
    "\n",
    "ax.set_title(\"Mean waiting time as a function of the utilization\")"
   ]
  },
  {
   "cell_type": "markdown",
   "metadata": {},
   "source": [
    "## Simulation runtimes"
   ]
  },
  {
   "cell_type": "code",
   "execution_count": 8,
   "metadata": {},
   "outputs": [
    {
     "name": "stdout",
     "output_type": "stream",
     "text": [
      "Models: 23\n",
      "Client arrivals (total): 2.3 millons\n",
      "Computing time (total): 19.6 Sekunden\n",
      "Computing time per client (real): 169.7 µs\n"
     ]
    }
   ],
   "source": [
    "print(get_multi_run_info([model['Source'] for model in models], simulators))"
   ]
  },
  {
   "cell_type": "markdown",
   "metadata": {},
   "source": [
    "### Runtime\n",
    "\n",
    "* total = Maximum of the computing times of the individual processes\n",
    "* real = Computing time per client on a single CPU core (dividing this value by the number of CPU cores is total output)"
   ]
  }
 ],
 "metadata": {
  "interpreter": {
   "hash": "50353b016531f30848d54ac32cae776bc182aa8d1967b29e76fe0c76333975c2"
  },
  "kernelspec": {
   "display_name": "Python 3.9.7 64-bit",
   "name": "python3"
  },
  "language_info": {
   "codemirror_mode": {
    "name": "ipython",
    "version": 3
   },
   "file_extension": ".py",
   "mimetype": "text/x-python",
   "name": "python",
   "nbconvert_exporter": "python",
   "pygments_lexer": "ipython3",
   "version": "3.9.7"
  },
  "orig_nbformat": 4
 },
 "nbformat": 4,
 "nbformat_minor": 2
}
