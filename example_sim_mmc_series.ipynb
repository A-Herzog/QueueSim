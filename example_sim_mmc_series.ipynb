{
 "cells": [
  {
   "attachments": {},
   "cell_type": "markdown",
   "metadata": {},
   "source": [
    "# Parameter series for M/M/c model"
   ]
  },
  {
   "attachments": {},
   "cell_type": "markdown",
   "metadata": {},
   "source": [
    "This notebook shows the effect of different average service times in a M/M/c model on the waiting times."
   ]
  },
  {
   "attachments": {},
   "cell_type": "markdown",
   "metadata": {},
   "source": [
    "## Importing modules"
   ]
  },
  {
   "cell_type": "code",
   "execution_count": 1,
   "metadata": {},
   "outputs": [],
   "source": [
    "# Data collection\n",
    "import pandas as pd\n",
    "\n",
    "# Plotting modules\n",
    "import matplotlib.pyplot as plt\n",
    "import matplotlib.ticker as formater\n",
    "import seaborn as sns\n",
    "\n",
    "# Simulation\n",
    "from queuesim import SimProcess, run_parallel, get_multi_run_info\n",
    "from queuesim.models import mmc_model\n",
    "\n",
    "# Analytic calculation\n",
    "from queuesim.analytic import erlang_c_table\n",
    "\n",
    "# Defining general plot style\n",
    "sns.set()"
   ]
  },
  {
   "attachments": {},
   "cell_type": "markdown",
   "metadata": {},
   "source": [
    "## Model parameters"
   ]
  },
  {
   "cell_type": "code",
   "execution_count": 2,
   "metadata": {},
   "outputs": [],
   "source": [
    "# Mean inter-arrival time\n",
    "mean_i = 100\n",
    "\n",
    "# Mean service time range\n",
    "mean_s_range = range(70, 93)\n",
    "\n",
    "# Number of operators\n",
    "c = 1\n",
    "\n",
    "# Number of arrivals to be simulated\n",
    "count = 100_000"
   ]
  },
  {
   "attachments": {},
   "cell_type": "markdown",
   "metadata": {},
   "source": [
    "## Parallel simulation of the M/M/c models with E[I]=100, c=1 and E[S]=70,71,...,92 each with 100,000 arrivals"
   ]
  },
  {
   "cell_type": "code",
   "execution_count": 3,
   "metadata": {},
   "outputs": [
    {
     "name": "stdout",
     "output_type": "stream",
     "text": [
      "23 parallel processes started.\n",
      "All processes terminated, runtime: 9.4 seconds.\n",
      "Results have been collected.\n"
     ]
    }
   ],
   "source": [
    "models, simulators = run_parallel([SimProcess(mmc_model(mean_i, mean_s, c, count)) for mean_s in mean_s_range])"
   ]
  },
  {
   "attachments": {},
   "cell_type": "markdown",
   "metadata": {},
   "source": [
    "## Processing results"
   ]
  },
  {
   "cell_type": "code",
   "execution_count": 4,
   "metadata": {},
   "outputs": [
    {
     "data": {
      "text/html": [
       "<div>\n",
       "<style scoped>\n",
       "    .dataframe tbody tr th:only-of-type {\n",
       "        vertical-align: middle;\n",
       "    }\n",
       "\n",
       "    .dataframe tbody tr th {\n",
       "        vertical-align: top;\n",
       "    }\n",
       "\n",
       "    .dataframe thead th {\n",
       "        text-align: right;\n",
       "    }\n",
       "</style>\n",
       "<table border=\"1\" class=\"dataframe\">\n",
       "  <thead>\n",
       "    <tr style=\"text-align: right;\">\n",
       "      <th></th>\n",
       "      <th>mu</th>\n",
       "      <th>rho</th>\n",
       "      <th>E[N_Q]</th>\n",
       "      <th>E[N]</th>\n",
       "      <th>E[W]</th>\n",
       "      <th>E[V]</th>\n",
       "    </tr>\n",
       "  </thead>\n",
       "  <tbody>\n",
       "    <tr>\n",
       "      <th>0</th>\n",
       "      <td>0.014286</td>\n",
       "      <td>0.70</td>\n",
       "      <td>1.605788</td>\n",
       "      <td>2.303983</td>\n",
       "      <td>160.792174</td>\n",
       "      <td>230.704401</td>\n",
       "    </tr>\n",
       "    <tr>\n",
       "      <th>1</th>\n",
       "      <td>0.014085</td>\n",
       "      <td>0.71</td>\n",
       "      <td>1.725971</td>\n",
       "      <td>2.436737</td>\n",
       "      <td>172.316504</td>\n",
       "      <td>243.277503</td>\n",
       "    </tr>\n",
       "    <tr>\n",
       "      <th>2</th>\n",
       "      <td>0.013889</td>\n",
       "      <td>0.72</td>\n",
       "      <td>1.869298</td>\n",
       "      <td>2.589547</td>\n",
       "      <td>186.402693</td>\n",
       "      <td>258.224508</td>\n",
       "    </tr>\n",
       "    <tr>\n",
       "      <th>3</th>\n",
       "      <td>0.013699</td>\n",
       "      <td>0.73</td>\n",
       "      <td>1.924806</td>\n",
       "      <td>2.650831</td>\n",
       "      <td>192.633378</td>\n",
       "      <td>265.293408</td>\n",
       "    </tr>\n",
       "    <tr>\n",
       "      <th>4</th>\n",
       "      <td>0.013514</td>\n",
       "      <td>0.74</td>\n",
       "      <td>2.142714</td>\n",
       "      <td>2.884213</td>\n",
       "      <td>214.218194</td>\n",
       "      <td>288.349656</td>\n",
       "    </tr>\n",
       "    <tr>\n",
       "      <th>5</th>\n",
       "      <td>0.013333</td>\n",
       "      <td>0.75</td>\n",
       "      <td>2.241295</td>\n",
       "      <td>2.992828</td>\n",
       "      <td>221.844854</td>\n",
       "      <td>296.232086</td>\n",
       "    </tr>\n",
       "    <tr>\n",
       "      <th>6</th>\n",
       "      <td>0.013158</td>\n",
       "      <td>0.76</td>\n",
       "      <td>2.444390</td>\n",
       "      <td>3.207291</td>\n",
       "      <td>244.665790</td>\n",
       "      <td>321.026648</td>\n",
       "    </tr>\n",
       "    <tr>\n",
       "      <th>7</th>\n",
       "      <td>0.012987</td>\n",
       "      <td>0.77</td>\n",
       "      <td>2.454954</td>\n",
       "      <td>3.222717</td>\n",
       "      <td>245.074712</td>\n",
       "      <td>321.719456</td>\n",
       "    </tr>\n",
       "    <tr>\n",
       "      <th>8</th>\n",
       "      <td>0.012821</td>\n",
       "      <td>0.78</td>\n",
       "      <td>2.624778</td>\n",
       "      <td>3.398107</td>\n",
       "      <td>263.468063</td>\n",
       "      <td>341.092747</td>\n",
       "    </tr>\n",
       "    <tr>\n",
       "      <th>9</th>\n",
       "      <td>0.012658</td>\n",
       "      <td>0.79</td>\n",
       "      <td>2.954178</td>\n",
       "      <td>3.740084</td>\n",
       "      <td>295.276545</td>\n",
       "      <td>373.829494</td>\n",
       "    </tr>\n",
       "    <tr>\n",
       "      <th>10</th>\n",
       "      <td>0.012500</td>\n",
       "      <td>0.80</td>\n",
       "      <td>3.074900</td>\n",
       "      <td>3.874301</td>\n",
       "      <td>307.392837</td>\n",
       "      <td>387.307629</td>\n",
       "    </tr>\n",
       "    <tr>\n",
       "      <th>11</th>\n",
       "      <td>0.012346</td>\n",
       "      <td>0.81</td>\n",
       "      <td>3.363226</td>\n",
       "      <td>4.169368</td>\n",
       "      <td>336.296449</td>\n",
       "      <td>416.904395</td>\n",
       "    </tr>\n",
       "    <tr>\n",
       "      <th>12</th>\n",
       "      <td>0.012195</td>\n",
       "      <td>0.82</td>\n",
       "      <td>3.831975</td>\n",
       "      <td>4.653618</td>\n",
       "      <td>383.505023</td>\n",
       "      <td>465.735235</td>\n",
       "    </tr>\n",
       "    <tr>\n",
       "      <th>13</th>\n",
       "      <td>0.012048</td>\n",
       "      <td>0.83</td>\n",
       "      <td>3.905907</td>\n",
       "      <td>4.733662</td>\n",
       "      <td>391.638038</td>\n",
       "      <td>474.635518</td>\n",
       "    </tr>\n",
       "    <tr>\n",
       "      <th>14</th>\n",
       "      <td>0.011905</td>\n",
       "      <td>0.84</td>\n",
       "      <td>4.252763</td>\n",
       "      <td>5.090272</td>\n",
       "      <td>426.408624</td>\n",
       "      <td>510.382533</td>\n",
       "    </tr>\n",
       "    <tr>\n",
       "      <th>15</th>\n",
       "      <td>0.011765</td>\n",
       "      <td>0.85</td>\n",
       "      <td>4.848111</td>\n",
       "      <td>5.693526</td>\n",
       "      <td>486.323676</td>\n",
       "      <td>571.128970</td>\n",
       "    </tr>\n",
       "    <tr>\n",
       "      <th>16</th>\n",
       "      <td>0.011628</td>\n",
       "      <td>0.86</td>\n",
       "      <td>5.515737</td>\n",
       "      <td>6.378146</td>\n",
       "      <td>548.157622</td>\n",
       "      <td>633.864321</td>\n",
       "    </tr>\n",
       "    <tr>\n",
       "      <th>17</th>\n",
       "      <td>0.011494</td>\n",
       "      <td>0.87</td>\n",
       "      <td>6.149375</td>\n",
       "      <td>7.027027</td>\n",
       "      <td>613.019153</td>\n",
       "      <td>700.510535</td>\n",
       "    </tr>\n",
       "    <tr>\n",
       "      <th>18</th>\n",
       "      <td>0.011364</td>\n",
       "      <td>0.88</td>\n",
       "      <td>6.560593</td>\n",
       "      <td>7.442953</td>\n",
       "      <td>655.335190</td>\n",
       "      <td>743.473864</td>\n",
       "    </tr>\n",
       "    <tr>\n",
       "      <th>19</th>\n",
       "      <td>0.011236</td>\n",
       "      <td>0.89</td>\n",
       "      <td>6.627015</td>\n",
       "      <td>7.510538</td>\n",
       "      <td>666.023386</td>\n",
       "      <td>754.818583</td>\n",
       "    </tr>\n",
       "    <tr>\n",
       "      <th>20</th>\n",
       "      <td>0.011111</td>\n",
       "      <td>0.90</td>\n",
       "      <td>7.472009</td>\n",
       "      <td>8.370719</td>\n",
       "      <td>749.293119</td>\n",
       "      <td>839.415744</td>\n",
       "    </tr>\n",
       "    <tr>\n",
       "      <th>21</th>\n",
       "      <td>0.010989</td>\n",
       "      <td>0.91</td>\n",
       "      <td>9.607118</td>\n",
       "      <td>10.517591</td>\n",
       "      <td>959.616573</td>\n",
       "      <td>1050.560041</td>\n",
       "    </tr>\n",
       "    <tr>\n",
       "      <th>22</th>\n",
       "      <td>0.010870</td>\n",
       "      <td>0.92</td>\n",
       "      <td>10.341163</td>\n",
       "      <td>11.263103</td>\n",
       "      <td>1032.778127</td>\n",
       "      <td>1124.852824</td>\n",
       "    </tr>\n",
       "  </tbody>\n",
       "</table>\n",
       "</div>"
      ],
      "text/plain": [
       "          mu   rho     E[N_Q]       E[N]         E[W]         E[V]\n",
       "0   0.014286  0.70   1.605788   2.303983   160.792174   230.704401\n",
       "1   0.014085  0.71   1.725971   2.436737   172.316504   243.277503\n",
       "2   0.013889  0.72   1.869298   2.589547   186.402693   258.224508\n",
       "3   0.013699  0.73   1.924806   2.650831   192.633378   265.293408\n",
       "4   0.013514  0.74   2.142714   2.884213   214.218194   288.349656\n",
       "5   0.013333  0.75   2.241295   2.992828   221.844854   296.232086\n",
       "6   0.013158  0.76   2.444390   3.207291   244.665790   321.026648\n",
       "7   0.012987  0.77   2.454954   3.222717   245.074712   321.719456\n",
       "8   0.012821  0.78   2.624778   3.398107   263.468063   341.092747\n",
       "9   0.012658  0.79   2.954178   3.740084   295.276545   373.829494\n",
       "10  0.012500  0.80   3.074900   3.874301   307.392837   387.307629\n",
       "11  0.012346  0.81   3.363226   4.169368   336.296449   416.904395\n",
       "12  0.012195  0.82   3.831975   4.653618   383.505023   465.735235\n",
       "13  0.012048  0.83   3.905907   4.733662   391.638038   474.635518\n",
       "14  0.011905  0.84   4.252763   5.090272   426.408624   510.382533\n",
       "15  0.011765  0.85   4.848111   5.693526   486.323676   571.128970\n",
       "16  0.011628  0.86   5.515737   6.378146   548.157622   633.864321\n",
       "17  0.011494  0.87   6.149375   7.027027   613.019153   700.510535\n",
       "18  0.011364  0.88   6.560593   7.442953   655.335190   743.473864\n",
       "19  0.011236  0.89   6.627015   7.510538   666.023386   754.818583\n",
       "20  0.011111  0.90   7.472009   8.370719   749.293119   839.415744\n",
       "21  0.010989  0.91   9.607118  10.517591   959.616573  1050.560041\n",
       "22  0.010870  0.92  10.341163  11.263103  1032.778127  1124.852824"
      ]
     },
     "execution_count": 4,
     "metadata": {},
     "output_type": "execute_result"
    }
   ],
   "source": [
    "mu = [1 / model['meanS'] for model in models]\n",
    "rho = [model['meanS'] / model['meanI'] / model['c'] for model in models]\n",
    "ENQ = [model['Process'].statistic_queue_length.mean for model in models]\n",
    "EN = [model['Process'].statistic_wip.mean for model in models]\n",
    "EW = [model['Dispose'].statistic_client_waiting.mean for model in models]\n",
    "EV = [model['Dispose'].statistic_client_residence.mean for model in models]\n",
    "\n",
    "results = pd.DataFrame({'mu': mu, 'rho': rho, 'E[N_Q]': ENQ, 'E[N]': EN, 'E[W]': EW, 'E[V]': EV})\n",
    "\n",
    "results"
   ]
  },
  {
   "attachments": {},
   "cell_type": "markdown",
   "metadata": {},
   "source": [
    "## Calculating Erlang C formula results"
   ]
  },
  {
   "cell_type": "code",
   "execution_count": 5,
   "metadata": {},
   "outputs": [],
   "source": [
    "parameter = [(1 / mean_i, mu, c) for mu in results[\"mu\"]]\n",
    "erlang_c_results = erlang_c_table(parameter)"
   ]
  },
  {
   "attachments": {},
   "cell_type": "markdown",
   "metadata": {},
   "source": [
    "## Plotting results"
   ]
  },
  {
   "cell_type": "code",
   "execution_count": 6,
   "metadata": {},
   "outputs": [],
   "source": [
    "# Optional: Interactive diagram mode\n",
    "# Run \"pip install ipympl\" first\n",
    "# %matplotlib ipympl"
   ]
  },
  {
   "cell_type": "code",
   "execution_count": 7,
   "metadata": {},
   "outputs": [
    {
     "data": {
      "text/plain": [
       "Text(0.5, 1.0, 'Mean waiting time as a function of the utilization')"
      ]
     },
     "execution_count": 7,
     "metadata": {},
     "output_type": "execute_result"
    },
    {
     "data": {
      "image/png": "[encoded data removed]",
      "text/plain": [
       "<Figure size 1600x900 with 1 Axes>"
      ]
     },
     "metadata": {},
     "output_type": "display_data"
    }
   ],
   "source": [
    "fig, ax = plt.subplots(figsize=(16, 9))\n",
    "ax.plot(results['rho'], results['E[W]'], 'b', label=\"Simulation results\")\n",
    "ax.plot(erlang_c_results['rho'], erlang_c_results['E[W]'], 'r', label=\"Erlang C formula results\")\n",
    "\n",
    "ax.xaxis.set_major_formatter(formater.PercentFormatter(xmax=1, decimals=0))\n",
    "ax.set_xlabel(\"Utilization $\\\\rho$\")\n",
    "ax.set_ylabel(\"Mean waiting time E[W]\")\n",
    "ax.legend()\n",
    "\n",
    "ax.set_title(\"Mean waiting time as a function of the utilization\")"
   ]
  },
  {
   "attachments": {},
   "cell_type": "markdown",
   "metadata": {},
   "source": [
    "## Simulation runtimes"
   ]
  },
  {
   "cell_type": "code",
   "execution_count": 8,
   "metadata": {},
   "outputs": [
    {
     "name": "stdout",
     "output_type": "stream",
     "text": [
      "Models: 23\n",
      "Client arrivals (total): 2.3 millions\n",
      "Computing time (total): 2.3 seconds\n",
      "Computing time per client (real): 23.0 µs\n"
     ]
    }
   ],
   "source": [
    "print(get_multi_run_info([model['Source'] for model in models], simulators))"
   ]
  },
  {
   "attachments": {},
   "cell_type": "markdown",
   "metadata": {},
   "source": [
    "### Runtime\n",
    "\n",
    "* total = Maximum of the computing times of the individual processes\n",
    "* real = Computing time per client on a single CPU core (dividing this value by the number of CPU cores is total output)"
   ]
  }
 ],
 "metadata": {
  "kernelspec": {
   "display_name": "Python 3",
   "language": "python",
   "name": "python3"
  },
  "language_info": {
   "codemirror_mode": {
    "name": "ipython",
    "version": 3
   },
   "file_extension": ".py",
   "mimetype": "text/x-python",
   "name": "python",
   "nbconvert_exporter": "python",
   "pygments_lexer": "ipython3",
   "version": "3.11.0"
  },
  "orig_nbformat": 4
 },
 "nbformat": 4,
 "nbformat_minor": 2
}
