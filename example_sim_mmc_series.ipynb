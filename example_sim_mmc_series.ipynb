{
 "cells": [
  {
   "attachments": {},
   "cell_type": "markdown",
   "metadata": {},
   "source": [
    "# Parameter series for M/M/c model"
   ]
  },
  {
   "attachments": {},
   "cell_type": "markdown",
   "metadata": {},
   "source": [
    "This notebook shows the effect of different average service times in a M/M/c model on the waiting times."
   ]
  },
  {
   "attachments": {},
   "cell_type": "markdown",
   "metadata": {},
   "source": [
    "## Importing modules"
   ]
  },
  {
   "cell_type": "code",
   "execution_count": 1,
   "metadata": {},
   "outputs": [],
   "source": [
    "# Data collection\n",
    "import pandas as pd\n",
    "\n",
    "# Plotting modules\n",
    "import matplotlib.pyplot as plt\n",
    "import matplotlib.ticker as formater\n",
    "\n",
    "# Simulation\n",
    "from queuesim import SimProcess, run_parallel, get_multi_run_info\n",
    "from queuesim.models import mmc_model\n",
    "\n",
    "# Analytic calculation\n",
    "from queuesim.analytic import erlang_c_table\n",
    "\n",
    "# Defining general plot style\n",
    "plt.style.use('seaborn-v0_8')"
   ]
  },
  {
   "attachments": {},
   "cell_type": "markdown",
   "metadata": {},
   "source": [
    "## Model parameters"
   ]
  },
  {
   "cell_type": "code",
   "execution_count": 2,
   "metadata": {},
   "outputs": [],
   "source": [
    "# Mean inter-arrival time\n",
    "mean_i = 100\n",
    "\n",
    "# Mean service time range\n",
    "mean_s_range = range(70, 93)\n",
    "\n",
    "# Number of operators\n",
    "c = 1\n",
    "\n",
    "# Number of arrivals to be simulated\n",
    "count = 100_000"
   ]
  },
  {
   "attachments": {},
   "cell_type": "markdown",
   "metadata": {},
   "source": [
    "## Parallel simulation of the M/M/c models with E[I]=100, c=1 and E[S]=70,71,...,92 each with 100,000 arrivals"
   ]
  },
  {
   "cell_type": "code",
   "execution_count": 3,
   "metadata": {},
   "outputs": [
    {
     "name": "stdout",
     "output_type": "stream",
     "text": [
      "23 parallel processes started.\n",
      "All processes terminated, runtime: 21.7 seconds.\n",
      "Results have been collected.\n"
     ]
    }
   ],
   "source": [
    "models, simulators = run_parallel([SimProcess(mmc_model(mean_i, mean_s, c, count)) for mean_s in mean_s_range])"
   ]
  },
  {
   "attachments": {},
   "cell_type": "markdown",
   "metadata": {},
   "source": [
    "## Processing results"
   ]
  },
  {
   "cell_type": "code",
   "execution_count": 4,
   "metadata": {},
   "outputs": [
    {
     "data": {
      "text/html": [
       "<div>\n",
       "<style scoped>\n",
       "    .dataframe tbody tr th:only-of-type {\n",
       "        vertical-align: middle;\n",
       "    }\n",
       "\n",
       "    .dataframe tbody tr th {\n",
       "        vertical-align: top;\n",
       "    }\n",
       "\n",
       "    .dataframe thead th {\n",
       "        text-align: right;\n",
       "    }\n",
       "</style>\n",
       "<table border=\"1\" class=\"dataframe\">\n",
       "  <thead>\n",
       "    <tr style=\"text-align: right;\">\n",
       "      <th></th>\n",
       "      <th>mu</th>\n",
       "      <th>rho</th>\n",
       "      <th>E[N_Q]</th>\n",
       "      <th>E[N]</th>\n",
       "      <th>E[W]</th>\n",
       "      <th>E[V]</th>\n",
       "    </tr>\n",
       "  </thead>\n",
       "  <tbody>\n",
       "    <tr>\n",
       "      <th>0</th>\n",
       "      <td>0.014286</td>\n",
       "      <td>0.70</td>\n",
       "      <td>1.638160</td>\n",
       "      <td>2.341822</td>\n",
       "      <td>163.038300</td>\n",
       "      <td>233.070435</td>\n",
       "    </tr>\n",
       "    <tr>\n",
       "      <th>1</th>\n",
       "      <td>0.014085</td>\n",
       "      <td>0.71</td>\n",
       "      <td>1.788839</td>\n",
       "      <td>2.500268</td>\n",
       "      <td>178.221469</td>\n",
       "      <td>249.101010</td>\n",
       "    </tr>\n",
       "    <tr>\n",
       "      <th>2</th>\n",
       "      <td>0.013889</td>\n",
       "      <td>0.72</td>\n",
       "      <td>1.870283</td>\n",
       "      <td>2.588615</td>\n",
       "      <td>186.899801</td>\n",
       "      <td>258.683552</td>\n",
       "    </tr>\n",
       "    <tr>\n",
       "      <th>3</th>\n",
       "      <td>0.013699</td>\n",
       "      <td>0.73</td>\n",
       "      <td>2.000628</td>\n",
       "      <td>2.730281</td>\n",
       "      <td>200.804787</td>\n",
       "      <td>274.040658</td>\n",
       "    </tr>\n",
       "    <tr>\n",
       "      <th>4</th>\n",
       "      <td>0.013514</td>\n",
       "      <td>0.74</td>\n",
       "      <td>2.088290</td>\n",
       "      <td>2.830328</td>\n",
       "      <td>208.911738</td>\n",
       "      <td>283.144904</td>\n",
       "    </tr>\n",
       "    <tr>\n",
       "      <th>5</th>\n",
       "      <td>0.013333</td>\n",
       "      <td>0.75</td>\n",
       "      <td>2.313643</td>\n",
       "      <td>3.069657</td>\n",
       "      <td>230.507276</td>\n",
       "      <td>305.828642</td>\n",
       "    </tr>\n",
       "    <tr>\n",
       "      <th>6</th>\n",
       "      <td>0.013158</td>\n",
       "      <td>0.76</td>\n",
       "      <td>2.386162</td>\n",
       "      <td>3.147705</td>\n",
       "      <td>237.892241</td>\n",
       "      <td>313.815528</td>\n",
       "    </tr>\n",
       "    <tr>\n",
       "      <th>7</th>\n",
       "      <td>0.012987</td>\n",
       "      <td>0.77</td>\n",
       "      <td>2.358285</td>\n",
       "      <td>3.120652</td>\n",
       "      <td>236.800528</td>\n",
       "      <td>313.351463</td>\n",
       "    </tr>\n",
       "    <tr>\n",
       "      <th>8</th>\n",
       "      <td>0.012821</td>\n",
       "      <td>0.78</td>\n",
       "      <td>2.757517</td>\n",
       "      <td>3.540142</td>\n",
       "      <td>275.777155</td>\n",
       "      <td>354.046868</td>\n",
       "    </tr>\n",
       "    <tr>\n",
       "      <th>9</th>\n",
       "      <td>0.012658</td>\n",
       "      <td>0.79</td>\n",
       "      <td>2.937591</td>\n",
       "      <td>3.727926</td>\n",
       "      <td>293.643687</td>\n",
       "      <td>372.646097</td>\n",
       "    </tr>\n",
       "    <tr>\n",
       "      <th>10</th>\n",
       "      <td>0.012500</td>\n",
       "      <td>0.80</td>\n",
       "      <td>3.275744</td>\n",
       "      <td>4.075052</td>\n",
       "      <td>327.662731</td>\n",
       "      <td>407.615068</td>\n",
       "    </tr>\n",
       "    <tr>\n",
       "      <th>11</th>\n",
       "      <td>0.012346</td>\n",
       "      <td>0.81</td>\n",
       "      <td>3.551928</td>\n",
       "      <td>4.365588</td>\n",
       "      <td>355.982161</td>\n",
       "      <td>437.528919</td>\n",
       "    </tr>\n",
       "    <tr>\n",
       "      <th>12</th>\n",
       "      <td>0.012195</td>\n",
       "      <td>0.82</td>\n",
       "      <td>3.905185</td>\n",
       "      <td>4.729988</td>\n",
       "      <td>389.544486</td>\n",
       "      <td>471.819006</td>\n",
       "    </tr>\n",
       "    <tr>\n",
       "      <th>13</th>\n",
       "      <td>0.012048</td>\n",
       "      <td>0.83</td>\n",
       "      <td>3.956802</td>\n",
       "      <td>4.783397</td>\n",
       "      <td>397.260493</td>\n",
       "      <td>480.250076</td>\n",
       "    </tr>\n",
       "    <tr>\n",
       "      <th>14</th>\n",
       "      <td>0.011905</td>\n",
       "      <td>0.84</td>\n",
       "      <td>4.180292</td>\n",
       "      <td>5.015266</td>\n",
       "      <td>418.981890</td>\n",
       "      <td>502.669618</td>\n",
       "    </tr>\n",
       "    <tr>\n",
       "      <th>15</th>\n",
       "      <td>0.011765</td>\n",
       "      <td>0.85</td>\n",
       "      <td>4.506745</td>\n",
       "      <td>5.352830</td>\n",
       "      <td>452.642361</td>\n",
       "      <td>537.620223</td>\n",
       "    </tr>\n",
       "    <tr>\n",
       "      <th>16</th>\n",
       "      <td>0.011628</td>\n",
       "      <td>0.86</td>\n",
       "      <td>5.077561</td>\n",
       "      <td>5.935846</td>\n",
       "      <td>508.332643</td>\n",
       "      <td>594.258539</td>\n",
       "    </tr>\n",
       "    <tr>\n",
       "      <th>17</th>\n",
       "      <td>0.011494</td>\n",
       "      <td>0.87</td>\n",
       "      <td>5.554304</td>\n",
       "      <td>6.424219</td>\n",
       "      <td>554.530784</td>\n",
       "      <td>641.381333</td>\n",
       "    </tr>\n",
       "    <tr>\n",
       "      <th>18</th>\n",
       "      <td>0.011364</td>\n",
       "      <td>0.88</td>\n",
       "      <td>6.304548</td>\n",
       "      <td>7.183214</td>\n",
       "      <td>631.520745</td>\n",
       "      <td>719.535893</td>\n",
       "    </tr>\n",
       "    <tr>\n",
       "      <th>19</th>\n",
       "      <td>0.011236</td>\n",
       "      <td>0.89</td>\n",
       "      <td>7.581213</td>\n",
       "      <td>8.476011</td>\n",
       "      <td>754.536708</td>\n",
       "      <td>843.593453</td>\n",
       "    </tr>\n",
       "    <tr>\n",
       "      <th>20</th>\n",
       "      <td>0.011111</td>\n",
       "      <td>0.90</td>\n",
       "      <td>8.921994</td>\n",
       "      <td>9.831462</td>\n",
       "      <td>890.060140</td>\n",
       "      <td>980.788823</td>\n",
       "    </tr>\n",
       "    <tr>\n",
       "      <th>21</th>\n",
       "      <td>0.010989</td>\n",
       "      <td>0.91</td>\n",
       "      <td>9.262180</td>\n",
       "      <td>10.171498</td>\n",
       "      <td>931.823259</td>\n",
       "      <td>1023.305383</td>\n",
       "    </tr>\n",
       "    <tr>\n",
       "      <th>22</th>\n",
       "      <td>0.010870</td>\n",
       "      <td>0.92</td>\n",
       "      <td>9.635909</td>\n",
       "      <td>10.552821</td>\n",
       "      <td>964.143023</td>\n",
       "      <td>1055.886800</td>\n",
       "    </tr>\n",
       "  </tbody>\n",
       "</table>\n",
       "</div>"
      ],
      "text/plain": [
       "          mu   rho    E[N_Q]       E[N]        E[W]         E[V]\n",
       "0   0.014286  0.70  1.638160   2.341822  163.038300   233.070435\n",
       "1   0.014085  0.71  1.788839   2.500268  178.221469   249.101010\n",
       "2   0.013889  0.72  1.870283   2.588615  186.899801   258.683552\n",
       "3   0.013699  0.73  2.000628   2.730281  200.804787   274.040658\n",
       "4   0.013514  0.74  2.088290   2.830328  208.911738   283.144904\n",
       "5   0.013333  0.75  2.313643   3.069657  230.507276   305.828642\n",
       "6   0.013158  0.76  2.386162   3.147705  237.892241   313.815528\n",
       "7   0.012987  0.77  2.358285   3.120652  236.800528   313.351463\n",
       "8   0.012821  0.78  2.757517   3.540142  275.777155   354.046868\n",
       "9   0.012658  0.79  2.937591   3.727926  293.643687   372.646097\n",
       "10  0.012500  0.80  3.275744   4.075052  327.662731   407.615068\n",
       "11  0.012346  0.81  3.551928   4.365588  355.982161   437.528919\n",
       "12  0.012195  0.82  3.905185   4.729988  389.544486   471.819006\n",
       "13  0.012048  0.83  3.956802   4.783397  397.260493   480.250076\n",
       "14  0.011905  0.84  4.180292   5.015266  418.981890   502.669618\n",
       "15  0.011765  0.85  4.506745   5.352830  452.642361   537.620223\n",
       "16  0.011628  0.86  5.077561   5.935846  508.332643   594.258539\n",
       "17  0.011494  0.87  5.554304   6.424219  554.530784   641.381333\n",
       "18  0.011364  0.88  6.304548   7.183214  631.520745   719.535893\n",
       "19  0.011236  0.89  7.581213   8.476011  754.536708   843.593453\n",
       "20  0.011111  0.90  8.921994   9.831462  890.060140   980.788823\n",
       "21  0.010989  0.91  9.262180  10.171498  931.823259  1023.305383\n",
       "22  0.010870  0.92  9.635909  10.552821  964.143023  1055.886800"
      ]
     },
     "execution_count": 4,
     "metadata": {},
     "output_type": "execute_result"
    }
   ],
   "source": [
    "mu = [1 / model['meanS'] for model in models]\n",
    "rho = [model['meanS'] / model['meanI'] / model['c'] for model in models]\n",
    "ENQ = [model['Process'].statistic_queue_length.mean for model in models]\n",
    "EN = [model['Process'].statistic_wip.mean for model in models]\n",
    "EW = [model['Dispose'].statistic_client_waiting.mean for model in models]\n",
    "EV = [model['Dispose'].statistic_client_residence.mean for model in models]\n",
    "\n",
    "results = pd.DataFrame({'mu': mu, 'rho': rho, 'E[N_Q]': ENQ, 'E[N]': EN, 'E[W]': EW, 'E[V]': EV})\n",
    "\n",
    "results"
   ]
  },
  {
   "attachments": {},
   "cell_type": "markdown",
   "metadata": {},
   "source": [
    "## Calculating Erlang C formula results"
   ]
  },
  {
   "cell_type": "code",
   "execution_count": 5,
   "metadata": {},
   "outputs": [],
   "source": [
    "parameter = [(1 / mean_i, mu, c) for mu in results[\"mu\"]]\n",
    "erlang_c_results = erlang_c_table(parameter)"
   ]
  },
  {
   "attachments": {},
   "cell_type": "markdown",
   "metadata": {},
   "source": [
    "## Plotting results"
   ]
  },
  {
   "cell_type": "code",
   "execution_count": 6,
   "metadata": {},
   "outputs": [],
   "source": [
    "# Optional: Interactive diagram mode\n",
    "# Run \"pip install ipympl\" first\n",
    "# %matplotlib ipympl"
   ]
  },
  {
   "cell_type": "code",
   "execution_count": 7,
   "metadata": {},
   "outputs": [
    {
     "data": {
      "text/plain": [
       "Text(0.5, 1.0, 'Mean waiting time as a function of the utilization')"
      ]
     },
     "execution_count": 7,
     "metadata": {},
     "output_type": "execute_result"
    },
    {
     "data": {
      "image/png": "[encoded data removed]",
      "text/plain": [
       "<Figure size 1600x900 with 1 Axes>"
      ]
     },
     "metadata": {},
     "output_type": "display_data"
    }
   ],
   "source": [
    "_, ax = plt.subplots(figsize=(16, 9))\n",
    "ax.plot(results['rho'], results['E[W]'], 'b', label=\"Simulation results\")\n",
    "ax.plot(erlang_c_results['rho'], erlang_c_results['E[W]'], 'r', label=\"Erlang C formula results\")\n",
    "\n",
    "ax.xaxis.set_major_formatter(formater.PercentFormatter(xmax=1, decimals=0))\n",
    "ax.set_xlabel(\"Utilization $\\\\rho$\")\n",
    "ax.set_ylabel(\"Mean waiting time E[W]\")\n",
    "ax.legend()\n",
    "\n",
    "ax.set_title(\"Mean waiting time as a function of the utilization\")"
   ]
  },
  {
   "attachments": {},
   "cell_type": "markdown",
   "metadata": {},
   "source": [
    "## Simulation runtimes"
   ]
  },
  {
   "cell_type": "code",
   "execution_count": 8,
   "metadata": {},
   "outputs": [
    {
     "name": "stdout",
     "output_type": "stream",
     "text": [
      "Models: 23\n",
      "Client arrivals (total): 2.3 millions\n",
      "Computing time (total): 2.5 seconds\n",
      "Computing time per client (real): 22.8 µs\n"
     ]
    }
   ],
   "source": [
    "print(get_multi_run_info([model['Source'] for model in models], simulators))"
   ]
  },
  {
   "attachments": {},
   "cell_type": "markdown",
   "metadata": {},
   "source": [
    "### Runtime\n",
    "\n",
    "* total = Maximum of the computing times of the individual processes\n",
    "* real = Computing time per client on a single CPU core (dividing this value by the number of CPU cores is total output)"
   ]
  }
 ],
 "metadata": {
  "kernelspec": {
   "display_name": "Python 3",
   "language": "python",
   "name": "python3"
  },
  "language_info": {
   "codemirror_mode": {
    "name": "ipython",
    "version": 3
   },
   "file_extension": ".py",
   "mimetype": "text/x-python",
   "name": "python",
   "nbconvert_exporter": "python",
   "pygments_lexer": "ipython3",
   "version": "3.11.0"
  },
  "orig_nbformat": 4
 },
 "nbformat": 4,
 "nbformat_minor": 2
}
