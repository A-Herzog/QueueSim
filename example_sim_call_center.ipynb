{
 "cells": [
  {
   "attachments": {},
   "cell_type": "markdown",
   "metadata": {},
   "source": [
    "# Complex call center model"
   ]
  },
  {
   "attachments": {},
   "cell_type": "markdown",
   "metadata": {},
   "source": [
    "## Importing modules"
   ]
  },
  {
   "cell_type": "code",
   "execution_count": 1,
   "metadata": {},
   "outputs": [],
   "source": [
    "# Simulator\n",
    "from queuesim import Simulator\n",
    "\n",
    "# Station types\n",
    "from queuesim.stations import Source, Process, Decide, Delay, Dispose\n",
    "\n",
    "# Pseudo random number generators\n",
    "from queuesim.random_dist import exp as dist_exp\n",
    "\n",
    "# Print results\n",
    "from queuesim.models import call_center_results\n",
    "\n",
    "# Plot model\n",
    "from queuesim import build_graph\n",
    "import networkx as nx\n",
    "import matplotlib.pyplot as plt\n",
    "import seaborn as sns\n",
    "\n",
    "# Defining general plot style\n",
    "sns.set()"
   ]
  },
  {
   "attachments": {},
   "cell_type": "markdown",
   "metadata": {},
   "source": [
    "## Model\n",
    "\n",
    "<pre><code>\n",
    "             -------------\n",
    "             v           |\n",
    " Source -> Process -> Forward -> Dispose\n",
    "           ^    |                   ^\n",
    "           |   Retry ---------------|\n",
    "           |    v\n",
    "           |-- Delay\n",
    "</code></pre>\n",
    "\n",
    "This model can also be simulated via this online simulator:\n",
    "<https://a-herzog.github.io/MiniSimulator/>"
   ]
  },
  {
   "attachments": {},
   "cell_type": "markdown",
   "metadata": {},
   "source": [
    "## Model parameters"
   ]
  },
  {
   "cell_type": "code",
   "execution_count": 2,
   "metadata": {},
   "outputs": [],
   "source": [
    "# Arrivals to be simulated\n",
    "count = 100_000\n",
    "\n",
    "# Arrival process\n",
    "mean_i = 100\n",
    "get_i = dist_exp(mean_i)\n",
    "get_ib = None  # Batch arrivals\n",
    "\n",
    "# Service process\n",
    "mean_s = 80\n",
    "get_s = dist_exp(mean_s)\n",
    "b = 1  # Service batch size\n",
    "\n",
    "# Post-processing times\n",
    "get_s2 = None\n",
    "\n",
    "# Impatience\n",
    "mean_nu = 900\n",
    "get_nu = None  # None = no impatience\n",
    "\n",
    "# Retry process\n",
    "retry_rate = 0\n",
    "mean_retry_delay = 900\n",
    "get_retry_delay = dist_exp(mean_retry_delay)\n",
    "\n",
    "# Number of operators\n",
    "c = 1\n",
    "\n",
    "# System size\n",
    "K = -1  # -1 stands for \"unlimited\"\n",
    "\n",
    "# FIFO or LIFO client selection\n",
    "LIFO = False\n",
    "\n",
    "# Forwarding\n",
    "forwarding_rate = 0"
   ]
  },
  {
   "attachments": {},
   "cell_type": "markdown",
   "metadata": {},
   "source": [
    "In the model abpove many of the possible properties are not activated (like retry, forwardning, batching etc.). Also only the exponential distribution is used. So this just a M/M/c model with mit E[I]=100, E[S]=80 and c=1. This can be solved analytically. The results are:\n",
    "\n",
    "* Mean waiting time: E[W]=320\n",
    "* Mean service time: E[S]=80 (just defined above)\n",
    "* Mean residence time: E[V]=E[W]+E[S]=400\n",
    "* Mean queue length: E[N<sub>Q</sub>]=3,2\n",
    "* Mean number of clients in the system: E[N]=4\n",
    "* Utilization: &rho;=80%\n",
    "\n",
    "Try changing some of the model parameters and see what happens in each case compared to the Erlang C base model."
   ]
  },
  {
   "attachments": {},
   "cell_type": "markdown",
   "metadata": {},
   "source": [
    "## Define stations"
   ]
  },
  {
   "cell_type": "code",
   "execution_count": 3,
   "metadata": {},
   "outputs": [],
   "source": [
    "simulator = Simulator()\n",
    "source = Source(simulator, count, get_i, get_ib)\n",
    "process = Process(simulator, get_s, c, get_nu, get_s2, K, b, LIFO)\n",
    "forwarding = Decide(simulator)\n",
    "retry = Decide(simulator)\n",
    "delay = Delay(simulator, get_retry_delay)\n",
    "dispose = Dispose(simulator)"
   ]
  },
  {
   "attachments": {},
   "cell_type": "markdown",
   "metadata": {},
   "source": [
    "## Link stations"
   ]
  },
  {
   "cell_type": "code",
   "execution_count": 4,
   "metadata": {},
   "outputs": [],
   "source": [
    "source.set_next(process)\n",
    "process.set_next(forwarding)\n",
    "process.set_next_cancel(retry)\n",
    "forwarding.add_next(dispose, 1 - forwarding_rate)\n",
    "forwarding.add_next(process, forwarding_rate)\n",
    "retry.add_next(dispose, 1 - retry_rate)\n",
    "retry.add_next(delay, retry_rate)\n",
    "delay.set_next(process)"
   ]
  },
  {
   "attachments": {},
   "cell_type": "markdown",
   "metadata": {},
   "source": [
    "## Run simulation"
   ]
  },
  {
   "cell_type": "code",
   "execution_count": 5,
   "metadata": {},
   "outputs": [],
   "source": [
    "simulator.run()"
   ]
  },
  {
   "attachments": {},
   "cell_type": "markdown",
   "metadata": {},
   "source": [
    "## Show results"
   ]
  },
  {
   "cell_type": "code",
   "execution_count": 6,
   "metadata": {},
   "outputs": [
    {
     "name": "stdout",
     "output_type": "stream",
     "text": [
      "System\n",
      "  Simulated arrivals: 100000\n",
      "  Inter-arrival times at the system (I): count = 100000, mean = 99.8, sd = 100.2, cv = 1.0, min = 0.0, max = 719.6\n",
      "  Inter-departure times from the system (ID): count = 100000, mean = 99.8, sd = 100.0, cv = 1.0, min = 0.0, max = 581.1\n",
      "\n",
      "Process station\n",
      "  Success rate: count = 100000, Success = 100.0%\n",
      "  Waiting times (W): count = 100000, mean = 319.2, sd = 392.2, cv = 1.2, min = 0.0, max = 2074.8\n",
      "  Service times (S): count = 100000, mean = 80.1, sd = 80.1, cv = 1.0, min = 0.0, max = 578.7\n",
      "  Queue length (NQ): timspan = 9981765.1, mean = 3.2, min = 0.0, max = 42.0\n",
      "  Clients at the station (N): timspan = 9981765.1, mean = 4.0, min = 0.0, max = 43.0\n",
      "  Work load (c*rho): timspan = 9981765.1, mean = 0.8, min = 0.0, max = 1.0\n",
      "\n",
      "Clients\n",
      "  Waiting times (W): count = 100000, mean = 319.2, sd = 392.2, cv = 1.2, min = 0.0, max = 2074.8\n",
      "  Service times (S): count = 100000, mean = 80.1, sd = 80.1, cv = 1.0, min = 0.0, max = 578.7\n",
      "  Residence times (V): count = 100000, mean = 399.3, sd = 400.3, cv = 1.0, min = 0.0, max = 2160.4\n",
      "\n",
      "Simulator\n",
      "  Total computing time: 3.3 seconds\n",
      "  Computing time per client: 33.3 µs\n",
      "  Computing time per event: 6.7 µs\n",
      "  Simulated events: 500000\n",
      "\n"
     ]
    }
   ],
   "source": [
    "print(call_center_results(source, process, forwarding, retry, delay, dispose, simulator))"
   ]
  },
  {
   "attachments": {},
   "cell_type": "markdown",
   "metadata": {},
   "source": [
    "## Queueing network model"
   ]
  },
  {
   "cell_type": "code",
   "execution_count": 7,
   "metadata": {},
   "outputs": [
    {
     "data": {
      "image/png": "[encoded data removed]",
      "text/plain": [
       "<Figure size 1368x648 with 1 Axes>"
      ]
     },
     "metadata": {},
     "output_type": "display_data"
    }
   ],
   "source": [
    "dg = build_graph([source])\n",
    "fig, ax = plt.subplots(figsize=(19, 9))\n",
    "nx.draw(dg, ax=ax, with_labels=True, node_color='#CCCCFF', node_size=2000, arrowsize=30, width=2)"
   ]
  }
 ],
 "metadata": {
  "interpreter": {
   "hash": "d36edd88bc4a8cbfbde432faa1e6d5d74ab7e68bb2e310e9c6176c136d584aa1"
  },
  "kernelspec": {
   "display_name": "Python 3.8.6 64-bit ('base': conda)",
   "name": "python3"
  },
  "language_info": {
   "codemirror_mode": {
    "name": "ipython",
    "version": 3
   },
   "file_extension": ".py",
   "mimetype": "text/x-python",
   "name": "python",
   "nbconvert_exporter": "python",
   "pygments_lexer": "ipython3",
   "version": "3.9.7"
  },
  "orig_nbformat": 4
 },
 "nbformat": 4,
 "nbformat_minor": 2
}
