{
 "cells": [
  {
   "attachments": {},
   "cell_type": "markdown",
   "metadata": {},
   "source": [
    "# Comparing different queueing disciplines"
   ]
  },
  {
   "attachments": {},
   "cell_type": "markdown",
   "metadata": {},
   "source": [
    "## Importing modules"
   ]
  },
  {
   "cell_type": "code",
   "execution_count": 1,
   "metadata": {},
   "outputs": [],
   "source": [
    "# Generating random priorities\n",
    "from random import random as random_float\n",
    "\n",
    "# Simulation\n",
    "from queuesim.models import mmc_model_priorities, get_simulator_from_model"
   ]
  },
  {
   "attachments": {},
   "cell_type": "markdown",
   "metadata": {},
   "source": [
    "## Model parameters"
   ]
  },
  {
   "cell_type": "code",
   "execution_count": 2,
   "metadata": {},
   "outputs": [],
   "source": [
    "# Mean inter-arrival time\n",
    "mean_i = 100\n",
    "\n",
    "# Mean service time\n",
    "mean_s = 80\n",
    "\n",
    "# Number of operators\n",
    "c = 1\n",
    "\n",
    "# Number of arrivals to be simulated\n",
    "count = 500_000"
   ]
  },
  {
   "attachments": {},
   "cell_type": "markdown",
   "metadata": {},
   "source": [
    "## Priority formulas\n",
    "\n",
    "The client with the highest priority will be served next. So using the waiting time as priority will lead to FIFO, using -waiting time is LIFO."
   ]
  },
  {
   "cell_type": "code",
   "execution_count": 3,
   "metadata": {},
   "outputs": [],
   "source": [
    "def priority_FIFO(client, waiting_time):\n",
    "    return waiting_time\n",
    "\n",
    "def priority_LIFO(client, waiting_time):\n",
    "    return -waiting_time\n",
    "\n",
    "def priority_random(client, waiting_time):\n",
    "    return random_float() * 100"
   ]
  },
  {
   "attachments": {},
   "cell_type": "markdown",
   "metadata": {},
   "source": [
    "For FIFO and LIFO no priority lambda expressions are needed. FIFO and LIFO can be defined at the process station directly. In this example the lambda expressions for all three options were defined only for symmetry reasons."
   ]
  },
  {
   "attachments": {},
   "cell_type": "markdown",
   "metadata": {},
   "source": [
    "## Simulation"
   ]
  },
  {
   "cell_type": "code",
   "execution_count": 4,
   "metadata": {},
   "outputs": [
    {
     "name": "stdout",
     "output_type": "stream",
     "text": [
      "CPU times: total: 11.2 s\n",
      "Wall time: 11.2 s\n",
      "FIFO\n",
      "  Service times (S): mean = 80.0, sd = 80.0, cv = 1.0\n",
      "  Residence times (V): mean = 404.5, sd = 406.2, cv = 1.0\n",
      "  Waiting times (W): mean = 324.5, sd = 398.3, cv = 1.2\n",
      "\n",
      "CPU times: total: 11.1 s\n",
      "Wall time: 11.1 s\n",
      "Random\n",
      "  Service times (S): mean = 79.8, sd = 79.9, cv = 1.0\n",
      "  Residence times (V): mean = 392.8, sd = 565.6, cv = 1.4\n",
      "  Waiting times (W): mean = 313.0, sd = 560.0, cv = 1.8\n",
      "\n",
      "CPU times: total: 10.9 s\n",
      "Wall time: 10.9 s\n",
      "LIFO\n",
      "  Service times (S): mean = 79.8, sd = 79.9, cv = 1.0\n",
      "  Residence times (V): mean = 396.7, sd = 1050.9, cv = 2.6\n",
      "  Waiting times (W): mean = 316.8, sd = 1047.9, cv = 3.3\n",
      "\n"
     ]
    }
   ],
   "source": [
    "def run_simulation(mean_i, mean_s, c, count, priority, priority_name):\n",
    "    # Build model\n",
    "    model = mmc_model_priorities(mean_i, mean_s, c, count, priority)\n",
    "\n",
    "    # Run simulation\n",
    "    simulator = get_simulator_from_model(model)\n",
    "    %time simulator.run()\n",
    "\n",
    "    # Show results\n",
    "    print(priority_name)\n",
    "    dispose = model['Dispose']\n",
    "    print(\"  Service times (S): \" + dispose.statistic_client_service.info)\n",
    "    print(\"  Residence times (V): \" + dispose.statistic_client_residence.info)\n",
    "    print(\"  Waiting times (W): \" + dispose.statistic_client_waiting.info)\n",
    "    print()\n",
    "\n",
    "\n",
    "run_simulation(mean_i, mean_s, c, count, priority_FIFO, \"FIFO\")\n",
    "run_simulation(mean_i, mean_s, c, count, priority_random, \"Random\")\n",
    "run_simulation(mean_i, mean_s, c, count, priority_LIFO, \"LIFO\")"
   ]
  },
  {
   "attachments": {},
   "cell_type": "markdown",
   "metadata": {},
   "source": [
    "The queueing discipline is not influencing the mean waiting times but the coefficient of variation of the waiting times:\n",
    "\n",
    "* On FIFO CV[W] is about 1.2\n",
    "* On random service order CV[W] is about 1.7 - 1.8\n",
    "* On LIFO CV[W] is 3.5 or more"
   ]
  }
 ],
 "metadata": {
  "kernelspec": {
   "display_name": "Python 3",
   "language": "python",
   "name": "python3"
  },
  "language_info": {
   "codemirror_mode": {
    "name": "ipython",
    "version": 3
   },
   "file_extension": ".py",
   "mimetype": "text/x-python",
   "name": "python",
   "nbconvert_exporter": "python",
   "pygments_lexer": "ipython3",
   "version": "3.11.0"
  },
  "orig_nbformat": 4
 },
 "nbformat": 4,
 "nbformat_minor": 2
}
