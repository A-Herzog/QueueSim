{
 "cells": [
  {
   "cell_type": "markdown",
   "metadata": {},
   "source": [
    "# Comparing different queueing disciplines"
   ]
  },
  {
   "cell_type": "markdown",
   "metadata": {},
   "source": [
    "## Importing modules"
   ]
  },
  {
   "cell_type": "code",
   "execution_count": 5,
   "metadata": {},
   "outputs": [],
   "source": [
    "# Generating random priorities\n",
    "from random import random as random_float\n",
    "\n",
    "# Simulation\n",
    "from queuesim.models import mmc_model_priorities, get_simulator_from_model"
   ]
  },
  {
   "cell_type": "markdown",
   "metadata": {},
   "source": [
    "## Model parameters"
   ]
  },
  {
   "cell_type": "code",
   "execution_count": 6,
   "metadata": {},
   "outputs": [],
   "source": [
    "# Mean inter-arrival time\n",
    "mean_i = 100\n",
    "\n",
    "# Mean service time\n",
    "mean_s = 80\n",
    "\n",
    "# Number of operators\n",
    "c = 1\n",
    "\n",
    "# Number of arrivals to be simulated\n",
    "count = 500_000"
   ]
  },
  {
   "cell_type": "markdown",
   "metadata": {},
   "source": [
    "## Priority formulas\n",
    "\n",
    "The client with the highest priority will be served next. So using the waitng time as priority will lead to FIFO, using -waitng time is LIFO."
   ]
  },
  {
   "cell_type": "code",
   "execution_count": 7,
   "metadata": {},
   "outputs": [],
   "source": [
    "def priority_FIFO(client, waiting_time):\n",
    "    return waiting_time\n",
    "\n",
    "def priority_LIFO(client, waiting_time):\n",
    "    return -waiting_time\n",
    "\n",
    "def priority_random(client, waiting_time):\n",
    "    return random_float() * 100"
   ]
  },
  {
   "cell_type": "markdown",
   "metadata": {},
   "source": [
    "For FIFO and LIFO no priority lambda expressions are needed. FIFO and LIFO can be defined at the process station directly. In this example the lambda expressions for all three options were defined only for symmetry reasons."
   ]
  },
  {
   "cell_type": "markdown",
   "metadata": {},
   "source": [
    "## Simulation"
   ]
  },
  {
   "cell_type": "code",
   "execution_count": 8,
   "metadata": {},
   "outputs": [
    {
     "name": "stdout",
     "output_type": "stream",
     "text": [
      "Wall time: 15.4 s\n",
      "FIFO\n",
      "  Service times (S): mean = 79.9, sd = 80.0, cv = 1.0\n",
      "  Residence times (V): mean = 400.6, sd = 402.4, cv = 1.0\n",
      "  Waiting times (W): mean = 320.6, sd = 394.5, cv = 1.2\n",
      "\n",
      "Wall time: 15.8 s\n",
      "Random\n",
      "  Service times (S): mean = 79.8, sd = 79.8, cv = 1.0\n",
      "  Residence times (V): mean = 401.4, sd = 582.3, cv = 1.5\n",
      "  Waiting times (W): mean = 321.6, sd = 576.6, cv = 1.8\n",
      "\n",
      "Wall time: 15.6 s\n",
      "LIFO\n",
      "  Service times (S): mean = 79.9, sd = 80.1, cv = 1.0\n",
      "  Residence times (V): mean = 399.2, sd = 1090.0, cv = 2.7\n",
      "  Waiting times (W): mean = 319.2, sd = 1087.0, cv = 3.4\n",
      "\n"
     ]
    }
   ],
   "source": [
    "def run_simulation(mean_i, mean_s, c, count, priority, priority_name):\n",
    "    # Build model\n",
    "    model = mmc_model_priorities(mean_i, mean_s, c, count, priority)\n",
    "\n",
    "    # Run simulation\n",
    "    simulator = get_simulator_from_model(model)\n",
    "    %time simulator.run()\n",
    "\n",
    "    # Show results\n",
    "    print(priority_name)\n",
    "    dispose = model['Dispose']\n",
    "    print(\"  Service times (S): \" + dispose.statistic_client_service.info)\n",
    "    print(\"  Residence times (V): \" + dispose.statistic_client_residence.info)\n",
    "    print(\"  Waiting times (W): \" + dispose.statistic_client_waiting.info)\n",
    "    print()\n",
    "\n",
    "\n",
    "run_simulation(mean_i, mean_s, c, count, priority_FIFO, \"FIFO\")\n",
    "run_simulation(mean_i, mean_s, c, count, priority_random, \"Random\")\n",
    "run_simulation(mean_i, mean_s, c, count, priority_LIFO, \"LIFO\")"
   ]
  },
  {
   "cell_type": "markdown",
   "metadata": {},
   "source": [
    "The queueing discipline is not influencing the mean waiting times but the coefficient of variation of the waiting times:\n",
    "\n",
    "* On FIFO CV[W] is about 1.2\n",
    "* On random service order CV[W] is about 1.7 - 1.8\n",
    "* On LIFO CV[W] is 3.5 or more"
   ]
  }
 ],
 "metadata": {
  "kernelspec": {
   "display_name": "Python 3.9.7 64-bit",
   "language": "python",
   "name": "python3"
  },
  "language_info": {
   "codemirror_mode": {
    "name": "ipython",
    "version": 3
   },
   "file_extension": ".py",
   "mimetype": "text/x-python",
   "name": "python",
   "nbconvert_exporter": "python",
   "pygments_lexer": "ipython3",
   "version": "3.9.7"
  },
  "orig_nbformat": 4,
  "vscode": {
   "interpreter": {
    "hash": "37056784771c7b5ac6ab9d7dda111ef842cb90abd361c4ad13f8b6bfd3e8f1f2"
   }
  }
 },
 "nbformat": 4,
 "nbformat_minor": 2
}
